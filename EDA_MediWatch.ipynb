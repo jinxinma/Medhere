{
 "cells": [
  {
   "cell_type": "code",
   "execution_count": 97,
   "metadata": {
    "collapsed": true
   },
   "outputs": [],
   "source": [
    "from pyspark.sql.functions import *\n",
    "from pyspark.sql.types import *\n",
    "from pyspark.conf import * "
   ]
  },
  {
   "cell_type": "code",
   "execution_count": 648,
   "metadata": {
    "collapsed": true
   },
   "outputs": [],
   "source": [
    "# change the directory of data accordingly\n",
    "file_name = \"Data/161195286.csv\""
   ]
  },
  {
   "cell_type": "code",
   "execution_count": 649,
   "metadata": {},
   "outputs": [
    {
     "data": {
      "text/html": [
       "\n",
       "        <div>\n",
       "            <p><b>SparkContext</b></p>\n",
       "\n",
       "            <p><a href=\"http://10.11.66.62:4040\">Spark UI</a></p>\n",
       "\n",
       "            <dl>\n",
       "              <dt>Version</dt>\n",
       "                <dd><code>v2.2.0</code></dd>\n",
       "              <dt>Master</dt>\n",
       "                <dd><code>local[*]</code></dd>\n",
       "              <dt>AppName</dt>\n",
       "                <dd><code>PySparkShell</code></dd>\n",
       "            </dl>\n",
       "        </div>\n",
       "        "
      ],
      "text/plain": [
       "<SparkContext master=local[*] appName=PySparkShell>"
      ]
     },
     "execution_count": 649,
     "metadata": {},
     "output_type": "execute_result"
    }
   ],
   "source": [
    "sc"
   ]
  },
  {
   "cell_type": "markdown",
   "metadata": {},
   "source": [
    "### 1. Read the dataset"
   ]
  },
  {
   "cell_type": "code",
   "execution_count": 650,
   "metadata": {},
   "outputs": [],
   "source": [
    "schema = StructType([\n",
    "            StructField(\"time_stamp\", DoubleType(), True),\n",
    "            StructField(\"sensor_type\", IntegerType(), True),\n",
    "            StructField(\"sensor_name\", StringType(), True),\n",
    "            StructField(\"x_val\", DoubleType(), True),\n",
    "            StructField(\"y_val\", DoubleType(), True),\n",
    "            StructField(\"z_val\", DoubleType(), True)])\n",
    "\n",
    "# For info on SparkSession, refer: https://jaceklaskowski.gitbooks.io/mastering-apache-spark/spark-sql-SparkSession.html\n",
    "spark = SparkSession.builder \\\n",
    "        .appName(\"MediWatch\") \\\n",
    "        .master(\"local[4]\") \\\n",
    "        .config(conf=SparkConf()) \\\n",
    "        .getOrCreate()\n",
    "        \n",
    "df_motion = spark.read \\\n",
    "                 .format(\"csv\") \\\n",
    "                 .option(\"delimiter\", \",\") \\\n",
    "                 .load(file_name, schema=schema)"
   ]
  },
  {
   "cell_type": "code",
   "execution_count": 651,
   "metadata": {},
   "outputs": [
    {
     "name": "stdout",
     "output_type": "stream",
     "text": [
      "+-------------+-----------+--------------------+----------+----------+---------+\n",
      "|   time_stamp|sensor_type|         sensor_name|     x_val|     y_val|    z_val|\n",
      "+-------------+-----------+--------------------+----------+----------+---------+\n",
      "|1.61185157E14|          1|BMI160 accelerometer|-2.3854396|-3.9134622|  8.50711|\n",
      "|1.61185173E14|          1|BMI160 accelerometer| -2.339934|-3.9517825| 8.411309|\n",
      "| 1.6118519E14|          1|BMI160 accelerometer|-2.3566992|-4.3709106| 8.432864|\n",
      "| 1.6118519E14|          1|BMI160 accelerometer|-2.5866213|-4.8355446|  8.54543|\n",
      "|1.61185207E14|          1|BMI160 accelerometer|-2.8309133|-5.1756372| 8.519085|\n",
      "|1.61185207E14|          1|BMI160 accelerometer|-2.8979738| -4.782854| 8.468789|\n",
      "|1.61185224E14|          1|BMI160 accelerometer|-3.1374757| -4.519402| 8.368198|\n",
      "| 1.6118524E14|          1|BMI160 accelerometer| -3.278782|-4.7780643| 8.286768|\n",
      "| 1.6118524E14|          1|BMI160 accelerometer|-3.2572267|-4.9457154| 8.293953|\n",
      "|1.61185257E14|          1|BMI160 accelerometer|  -3.04886|-4.8451247| 8.270002|\n",
      "|1.61185257E14|          1|BMI160 accelerometer| -2.818938|-4.7325587| 8.279583|\n",
      "|1.61185274E14|          1|BMI160 accelerometer|-2.7063723|-4.7133985|8.3179035|\n",
      "|1.61185291E14|          1|BMI160 accelerometer|-2.6608667| -4.742139| 8.375383|\n",
      "|1.61185291E14|          1|BMI160 accelerometer|-2.6345215| -4.629573| 8.217313|\n",
      "|1.61185308E14|          1|BMI160 accelerometer|-2.7183473|-4.4427614|8.1143265|\n",
      "|1.61185308E14|          1|BMI160 accelerometer|-2.8548634| -4.430786| 8.006551|\n",
      "|1.61185324E14|          1|BMI160 accelerometer|-2.8620484|-4.5840673|7.7790236|\n",
      "|1.61185341E14|          1|BMI160 accelerometer|-2.7327175|-4.7780643|7.6233473|\n",
      "|1.61185341E14|          1|BMI160 accelerometer|-2.6129665| -5.039121|7.7287283|\n",
      "|1.61185358E14|          1|BMI160 accelerometer| -2.567461| -5.269043| 7.800579|\n",
      "+-------------+-----------+--------------------+----------+----------+---------+\n",
      "only showing top 20 rows\n",
      "\n"
     ]
    }
   ],
   "source": [
    "df_motion.show(20)"
   ]
  },
  {
   "cell_type": "code",
   "execution_count": 652,
   "metadata": {},
   "outputs": [
    {
     "name": "stdout",
     "output_type": "stream",
     "text": [
      "root\n",
      " |-- time_stamp: double (nullable = true)\n",
      " |-- sensor_type: integer (nullable = true)\n",
      " |-- sensor_name: string (nullable = true)\n",
      " |-- x_val: double (nullable = true)\n",
      " |-- y_val: double (nullable = true)\n",
      " |-- z_val: double (nullable = true)\n",
      "\n"
     ]
    }
   ],
   "source": [
    "df_motion.printSchema()"
   ]
  },
  {
   "cell_type": "markdown",
   "metadata": {},
   "source": [
    "### 3. Plot the readings from accelerometer"
   ]
  },
  {
   "cell_type": "code",
   "execution_count": 653,
   "metadata": {
    "collapsed": true
   },
   "outputs": [],
   "source": [
    "# install plotly: pip install plotly\n",
    "# need to create an account on https://plot.ly/, then go to https://plot.ly/settings/api and follow the instructions\n",
    "import plotly.plotly as py\n",
    "import plotly.graph_objs as go\n",
    "import plotly\n",
    "\n",
    "plotly.tools.set_credentials_file(username='suhtwins.ad', api_key='sBMMH5VVQJJ20oW9Bk9H')"
   ]
  },
  {
   "cell_type": "code",
   "execution_count": 654,
   "metadata": {},
   "outputs": [
    {
     "name": "stdout",
     "output_type": "stream",
     "text": [
      "+-----------+\n",
      "|sensor_type|\n",
      "+-----------+\n",
      "|          1|\n",
      "|          4|\n",
      "+-----------+\n",
      "\n"
     ]
    }
   ],
   "source": [
    "# check distinct types of sensors\n",
    "df_motion.select(df_motion[\"sensor_type\"]).distinct().show()"
   ]
  },
  {
   "cell_type": "code",
   "execution_count": 655,
   "metadata": {},
   "outputs": [],
   "source": [
    "def plot_sensor_data(dataframe, sensor_name):\n",
    "    coor_names = [\"x_val\", \"y_val\", \"z_val\"]\n",
    "    plot = []\n",
    "    for coor in coor_names:\n",
    "        temp = dataframe.where(dataframe['sensor_name'] == sensor_name).select([\"time_stamp\", coor]).toPandas()\n",
    "        plot.append(\n",
    "            go.Scatter(\n",
    "            x=temp[\"time_stamp\"],\n",
    "            y=temp[coor],\n",
    "            name=coor + ' ' + sensor_name))\n",
    "    return go.Data(plot)"
   ]
  },
  {
   "cell_type": "code",
   "execution_count": 656,
   "metadata": {},
   "outputs": [
    {
     "data": {
      "text/html": [
       "<iframe id=\"igraph\" scrolling=\"no\" style=\"border:none;\" seamless=\"seamless\" src=\"https://plot.ly/~suhtwins.ad/30.embed\" height=\"525px\" width=\"100%\"></iframe>"
      ],
      "text/plain": [
       "<plotly.tools.PlotlyDisplay object>"
      ]
     },
     "execution_count": 656,
     "metadata": {},
     "output_type": "execute_result"
    }
   ],
   "source": [
    "accler_plot = plot_sensor_data(df_motion, \"BMI160 accelerometer\")\n",
    "py.iplot(accler_plot)"
   ]
  },
  {
   "cell_type": "code",
   "execution_count": 657,
   "metadata": {},
   "outputs": [
    {
     "data": {
      "text/html": [
       "<iframe id=\"igraph\" scrolling=\"no\" style=\"border:none;\" seamless=\"seamless\" src=\"https://plot.ly/~suhtwins.ad/32.embed\" height=\"525px\" width=\"100%\"></iframe>"
      ],
      "text/plain": [
       "<plotly.tools.PlotlyDisplay object>"
      ]
     },
     "execution_count": 657,
     "metadata": {},
     "output_type": "execute_result"
    }
   ],
   "source": [
    "accler_plot = plot_sensor_data(df_motion, \"BMI160 gyroscope\")\n",
    "py.iplot(accler_plot)"
   ]
  },
  {
   "cell_type": "code",
   "execution_count": null,
   "metadata": {
    "collapsed": true
   },
   "outputs": [],
   "source": []
  }
 ],
 "metadata": {
  "anaconda-cloud": {},
  "kernelspec": {
   "display_name": "Python 2",
   "language": "python",
   "name": "python2"
  },
  "language_info": {
   "codemirror_mode": {
    "name": "ipython",
    "version": 2
   },
   "file_extension": ".py",
   "mimetype": "text/x-python",
   "name": "python",
   "nbconvert_exporter": "python",
   "pygments_lexer": "ipython2",
   "version": "2.7.13"
  }
 },
 "nbformat": 4,
 "nbformat_minor": 2
}
